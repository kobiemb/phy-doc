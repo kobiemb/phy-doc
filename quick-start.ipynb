{
 "cells": [
  {
   "cell_type": "markdown",
   "metadata": {},
   "source": [
    "# Quick start guide"
   ]
  },
  {
   "cell_type": "markdown",
   "metadata": {},
   "source": [
    "Here is a short tutorial for phy, focusing on manual clustering."
   ]
  },
  {
   "cell_type": "markdown",
   "metadata": {},
   "source": [
    "## Installation"
   ]
  },
  {
   "cell_type": "markdown",
   "metadata": {},
   "source": [
    "https://github.com/kwikteam/phy-doc/blob/master/install.md"
   ]
  },
  {
   "cell_type": "markdown",
   "metadata": {},
   "source": [
    "## Importing phy"
   ]
  },
  {
   "cell_type": "code",
   "execution_count": 1,
   "metadata": {
    "collapsed": false
   },
   "outputs": [
    {
     "name": "stdout",
     "output_type": "stream",
     "text": [
      "2015-05-26 14:31:28  dock:142                Qt event loop activated.\n"
     ]
    }
   ],
   "source": [
    "import phy\n",
    "# Necessary when using the manual clustering GUI in the notebook:\n",
    "phy.enable_qt()"
   ]
  },
  {
   "cell_type": "markdown",
   "metadata": {},
   "source": [
    "## Downloading a test dataset"
   ]
  },
  {
   "cell_type": "markdown",
   "metadata": {},
   "source": [
    "Let's download a test dataset in Kwik format:"
   ]
  },
  {
   "cell_type": "code",
   "execution_count": 2,
   "metadata": {
    "collapsed": false
   },
   "outputs": [
    {
     "name": "stdout",
     "output_type": "stream",
     "text": [
      "2015-05-26 14:31:30  datasets:50             Downloading http://phy.cortexlab.net/data/test_hybrid_120sec.kwik...\n",
      "2015-05-26 14:31:30  datasets:50             Downloading http://phy.cortexlab.net/data/test_hybrid_120sec.kwx...\n",
      "2015-05-26 14:31:42  datasets:50             Downloading http://phy.cortexlab.net/data/test_hybrid_120sec.raw.kwd...\n"
     ]
    }
   ],
   "source": [
    "phy.download_test_data('test_hybrid_120sec')"
   ]
  },
  {
   "cell_type": "markdown",
   "metadata": {},
   "source": [
    "This creates a `test_hybrid_120sec` subdirectory with three files:"
   ]
  },
  {
   "cell_type": "code",
   "execution_count": 3,
   "metadata": {
    "collapsed": false
   },
   "outputs": [
    {
     "name": "stdout",
     "output_type": "stream",
     "text": [
      "\u001b[0m\u001b[01;32mtest_hybrid_120sec.kwik\u001b[0m*  \u001b[01;32mtest_hybrid_120sec.kwx\u001b[0m*  \u001b[01;32mtest_hybrid_120sec.raw.kwd\u001b[0m*\r\n"
     ]
    }
   ],
   "source": [
    "%ls test_hybrid_120sec"
   ]
  },
  {
   "cell_type": "markdown",
   "metadata": {},
   "source": [
    "## Creating a manual clustering session"
   ]
  },
  {
   "cell_type": "code",
   "execution_count": 4,
   "metadata": {
    "collapsed": true
   },
   "outputs": [],
   "source": [
    "from phy.cluster.manual import Session"
   ]
  },
  {
   "cell_type": "markdown",
   "metadata": {},
   "source": [
    "We create a `Session` and pass the path to the `.kwik` file:"
   ]
  },
  {
   "cell_type": "code",
   "execution_count": 5,
   "metadata": {
    "collapsed": false
   },
   "outputs": [
    {
     "name": "stdout",
     "output_type": "stream",
     "text": [
      "2015-05-26 14:31:48  session:117             Saving a backup of the Kwik file in test_hybrid_120sec/test_hybrid_120sec.kwik.bak.\n",
      "Features and masks initialized.\u001b[K\n",
      "Features and masks initialized.\u001b[K\n",
      "Waveforms initialized.\u001b[K\n",
      "Statistics initialized.\u001b[K\n"
     ]
    }
   ],
   "source": [
    "session = Session('test_hybrid_120sec/test_hybrid_120sec.kwik')"
   ]
  },
  {
   "cell_type": "markdown",
   "metadata": {},
   "source": [
    "**Side note**: A backup of the `.kwik` file has been automatically-created, as well as an internal cluster store that acts as a cache (needed for performance reasons):"
   ]
  },
  {
   "cell_type": "code",
   "execution_count": 6,
   "metadata": {
    "collapsed": false
   },
   "outputs": [
    {
     "name": "stdout",
     "output_type": "stream",
     "text": [
      "\u001b[0m\u001b[01;32m10.features\u001b[0m*        \u001b[01;32m16.masks\u001b[0m*           \u001b[01;32m21.mean_features\u001b[0m*   \u001b[01;32m4.mean_masks\u001b[0m*\r\n",
      "\u001b[01;32m10.masks\u001b[0m*           \u001b[01;32m16.mean_features\u001b[0m*   \u001b[01;32m21.mean_masks\u001b[0m*      \u001b[01;32m4.mean_waveforms\u001b[0m*\r\n",
      "\u001b[01;32m10.mean_features\u001b[0m*   \u001b[01;32m16.mean_masks\u001b[0m*      \u001b[01;32m21.mean_waveforms\u001b[0m*  \u001b[01;32m4.waveforms\u001b[0m*\r\n",
      "\u001b[01;32m10.mean_masks\u001b[0m*      \u001b[01;32m16.mean_waveforms\u001b[0m*  \u001b[01;32m21.waveforms\u001b[0m*       \u001b[01;32m5.features\u001b[0m*\r\n",
      "\u001b[01;32m10.mean_waveforms\u001b[0m*  \u001b[01;32m16.waveforms\u001b[0m*       \u001b[01;32m22.features\u001b[0m*        \u001b[01;32m5.masks\u001b[0m*\r\n",
      "\u001b[01;32m10.waveforms\u001b[0m*       \u001b[01;32m17.features\u001b[0m*        \u001b[01;32m22.masks\u001b[0m*           \u001b[01;32m5.mean_features\u001b[0m*\r\n",
      "\u001b[01;32m11.features\u001b[0m*        \u001b[01;32m17.masks\u001b[0m*           \u001b[01;32m22.mean_features\u001b[0m*   \u001b[01;32m5.mean_masks\u001b[0m*\r\n",
      "\u001b[01;32m11.masks\u001b[0m*           \u001b[01;32m17.mean_features\u001b[0m*   \u001b[01;32m22.mean_masks\u001b[0m*      \u001b[01;32m5.mean_waveforms\u001b[0m*\r\n",
      "\u001b[01;32m11.mean_features\u001b[0m*   \u001b[01;32m17.mean_masks\u001b[0m*      \u001b[01;32m22.mean_waveforms\u001b[0m*  \u001b[01;32m5.waveforms\u001b[0m*\r\n",
      "\u001b[01;32m11.mean_masks\u001b[0m*      \u001b[01;32m17.mean_waveforms\u001b[0m*  \u001b[01;32m22.waveforms\u001b[0m*       \u001b[01;32m6.features\u001b[0m*\r\n",
      "\u001b[01;32m11.mean_waveforms\u001b[0m*  \u001b[01;32m17.waveforms\u001b[0m*       \u001b[01;32m23.features\u001b[0m*        \u001b[01;32m6.masks\u001b[0m*\r\n",
      "\u001b[01;32m11.waveforms\u001b[0m*       \u001b[01;32m18.features\u001b[0m*        \u001b[01;32m23.masks\u001b[0m*           \u001b[01;32m6.mean_features\u001b[0m*\r\n",
      "\u001b[01;32m12.features\u001b[0m*        \u001b[01;32m18.masks\u001b[0m*           \u001b[01;32m23.mean_features\u001b[0m*   \u001b[01;32m6.mean_masks\u001b[0m*\r\n",
      "\u001b[01;32m12.masks\u001b[0m*           \u001b[01;32m18.mean_features\u001b[0m*   \u001b[01;32m23.mean_masks\u001b[0m*      \u001b[01;32m6.mean_waveforms\u001b[0m*\r\n",
      "\u001b[01;32m12.mean_features\u001b[0m*   \u001b[01;32m18.mean_masks\u001b[0m*      \u001b[01;32m23.mean_waveforms\u001b[0m*  \u001b[01;32m6.waveforms\u001b[0m*\r\n",
      "\u001b[01;32m12.mean_masks\u001b[0m*      \u001b[01;32m18.mean_waveforms\u001b[0m*  \u001b[01;32m23.waveforms\u001b[0m*       \u001b[01;32m7.features\u001b[0m*\r\n",
      "\u001b[01;32m12.mean_waveforms\u001b[0m*  \u001b[01;32m18.waveforms\u001b[0m*       \u001b[01;32m24.features\u001b[0m*        \u001b[01;32m7.masks\u001b[0m*\r\n",
      "\u001b[01;32m12.waveforms\u001b[0m*       \u001b[01;32m19.features\u001b[0m*        \u001b[01;32m24.masks\u001b[0m*           \u001b[01;32m7.mean_features\u001b[0m*\r\n",
      "\u001b[01;32m13.features\u001b[0m*        \u001b[01;32m19.masks\u001b[0m*           \u001b[01;32m24.mean_features\u001b[0m*   \u001b[01;32m7.mean_masks\u001b[0m*\r\n",
      "\u001b[01;32m13.masks\u001b[0m*           \u001b[01;32m19.mean_features\u001b[0m*   \u001b[01;32m24.mean_masks\u001b[0m*      \u001b[01;32m7.mean_waveforms\u001b[0m*\r\n",
      "\u001b[01;32m13.mean_features\u001b[0m*   \u001b[01;32m19.mean_masks\u001b[0m*      \u001b[01;32m24.mean_waveforms\u001b[0m*  \u001b[01;32m7.waveforms\u001b[0m*\r\n",
      "\u001b[01;32m13.mean_masks\u001b[0m*      \u001b[01;32m19.mean_waveforms\u001b[0m*  \u001b[01;32m24.waveforms\u001b[0m*       \u001b[01;32m8.features\u001b[0m*\r\n",
      "\u001b[01;32m13.mean_waveforms\u001b[0m*  \u001b[01;32m19.waveforms\u001b[0m*       \u001b[01;32m25.features\u001b[0m*        \u001b[01;32m8.masks\u001b[0m*\r\n",
      "\u001b[01;32m13.waveforms\u001b[0m*       \u001b[01;32m2.features\u001b[0m*         \u001b[01;32m25.masks\u001b[0m*           \u001b[01;32m8.mean_features\u001b[0m*\r\n",
      "\u001b[01;32m14.features\u001b[0m*        \u001b[01;32m2.masks\u001b[0m*            \u001b[01;32m25.mean_features\u001b[0m*   \u001b[01;32m8.mean_masks\u001b[0m*\r\n",
      "\u001b[01;32m14.masks\u001b[0m*           \u001b[01;32m2.mean_features\u001b[0m*    \u001b[01;32m25.mean_masks\u001b[0m*      \u001b[01;32m8.mean_waveforms\u001b[0m*\r\n",
      "\u001b[01;32m14.mean_features\u001b[0m*   \u001b[01;32m2.mean_masks\u001b[0m*       \u001b[01;32m25.mean_waveforms\u001b[0m*  \u001b[01;32m8.waveforms\u001b[0m*\r\n",
      "\u001b[01;32m14.mean_masks\u001b[0m*      \u001b[01;32m2.mean_waveforms\u001b[0m*   \u001b[01;32m25.waveforms\u001b[0m*       \u001b[01;32m9.features\u001b[0m*\r\n",
      "\u001b[01;32m14.mean_waveforms\u001b[0m*  \u001b[01;32m2.waveforms\u001b[0m*        \u001b[01;32m3.features\u001b[0m*         \u001b[01;32m9.masks\u001b[0m*\r\n",
      "\u001b[01;32m14.waveforms\u001b[0m*       \u001b[01;32m20.features\u001b[0m*        \u001b[01;32m3.masks\u001b[0m*            \u001b[01;32m9.mean_features\u001b[0m*\r\n",
      "\u001b[01;32m15.features\u001b[0m*        \u001b[01;32m20.masks\u001b[0m*           \u001b[01;32m3.mean_features\u001b[0m*    \u001b[01;32m9.mean_masks\u001b[0m*\r\n",
      "\u001b[01;32m15.masks\u001b[0m*           \u001b[01;32m20.mean_features\u001b[0m*   \u001b[01;32m3.mean_masks\u001b[0m*       \u001b[01;32m9.mean_waveforms\u001b[0m*\r\n",
      "\u001b[01;32m15.mean_features\u001b[0m*   \u001b[01;32m20.mean_masks\u001b[0m*      \u001b[01;32m3.mean_waveforms\u001b[0m*   \u001b[01;32m9.waveforms\u001b[0m*\r\n",
      "\u001b[01;32m15.mean_masks\u001b[0m*      \u001b[01;32m20.mean_waveforms\u001b[0m*  \u001b[01;32m3.waveforms\u001b[0m*        \u001b[01;32mwaveforms_spikes\u001b[0m*\r\n",
      "\u001b[01;32m15.mean_waveforms\u001b[0m*  \u001b[01;32m20.waveforms\u001b[0m*       \u001b[01;32m4.features\u001b[0m*\r\n",
      "\u001b[01;32m15.waveforms\u001b[0m*       \u001b[01;32m21.features\u001b[0m*        \u001b[01;32m4.masks\u001b[0m*\r\n",
      "\u001b[01;32m16.features\u001b[0m*        \u001b[01;32m21.masks\u001b[0m*           \u001b[01;32m4.mean_features\u001b[0m*\r\n"
     ]
    }
   ],
   "source": [
    "%ls test_hybrid_120sec/test_hybrid_120sec.phy/cluster_store/0/main"
   ]
  },
  {
   "cell_type": "markdown",
   "metadata": {},
   "source": [
    "## Inspect the data"
   ]
  },
  {
   "cell_type": "markdown",
   "metadata": {},
   "source": [
    "The dataset is now loaded. Let's inspect it:"
   ]
  },
  {
   "cell_type": "code",
   "execution_count": 7,
   "metadata": {
    "collapsed": false
   },
   "outputs": [
    {
     "name": "stdout",
     "output_type": "stream",
     "text": [
      "Kwik file               test_hybrid_120sec/test_hybrid_120sec.kwik\n",
      "Recordings              1\n",
      "List of shanks          0*\n",
      "Clusterings             main*, original\n",
      "Channels                32\n",
      "Spikes                  18539\n",
      "Clusters                24\n",
      "Duration                120s\n"
     ]
    }
   ],
   "source": [
    "session.model.describe()"
   ]
  },
  {
   "cell_type": "markdown",
   "metadata": {},
   "source": [
    "Use tab completion to discover the list of properties and methods: type `session.model.` then press `tab`."
   ]
  },
  {
   "cell_type": "markdown",
   "metadata": {},
   "source": [
    "## Start the manual clustering GUI"
   ]
  },
  {
   "cell_type": "code",
   "execution_count": 8,
   "metadata": {
    "collapsed": false
   },
   "outputs": [
    {
     "data": {
      "text/plain": [
       "<phy.cluster.manual.gui.ClusterManualGUI at 0x7f7e6c1031d0>"
      ]
     },
     "execution_count": 8,
     "metadata": {},
     "output_type": "execute_result"
    }
   ],
   "source": [
    "session.show_gui()"
   ]
  },
  {
   "cell_type": "markdown",
   "metadata": {},
   "source": [
    "![GUI](images/quick-start-gui.png)"
   ]
  },
  {
   "cell_type": "markdown",
   "metadata": {},
   "source": [
    "Press `space` and `shift+space` to go through the list of best clusters. Press `enter` to pin the best cluster and go through the list of closest matches.  Press `backspace` to unpin. Press `h` to see the other shortcuts."
   ]
  }
 ],
 "metadata": {
  "kernelspec": {
   "display_name": "Python 3",
   "language": "python",
   "name": "python3"
  },
  "language_info": {
   "codemirror_mode": {
    "name": "ipython",
    "version": 3
   },
   "file_extension": ".py",
   "mimetype": "text/x-python",
   "name": "python",
   "nbconvert_exporter": "python",
   "pygments_lexer": "ipython3",
   "version": "3.4.3"
  }
 },
 "nbformat": 4,
 "nbformat_minor": 0
}
