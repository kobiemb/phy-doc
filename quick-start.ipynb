{
 "cells": [
  {
   "cell_type": "markdown",
   "metadata": {},
   "source": [
    "# Quick start guide"
   ]
  },
  {
   "cell_type": "markdown",
   "metadata": {},
   "source": [
    "Here is a short tutorial for phy, focusing on manual clustering."
   ]
  },
  {
   "cell_type": "markdown",
   "metadata": {},
   "source": [
    "## Installation"
   ]
  },
  {
   "cell_type": "markdown",
   "metadata": {},
   "source": [
    "https://github.com/kwikteam/phy-doc/blob/master/install.md"
   ]
  },
  {
   "cell_type": "markdown",
   "metadata": {},
   "source": [
    "## Importing phy"
   ]
  },
  {
   "cell_type": "code",
   "execution_count": 1,
   "metadata": {
    "collapsed": false
   },
   "outputs": [
    {
     "name": "stdout",
     "output_type": "stream",
     "text": [
      "2015-05-11 12:49:15  dock:292                Qt event loop activated.\n"
     ]
    }
   ],
   "source": [
    "import phy\n",
    "# Necessary when using the manual clustering GUI in the notebook:\n",
    "phy.enable_qt()"
   ]
  },
  {
   "cell_type": "markdown",
   "metadata": {},
   "source": [
    "## Downloading a test dataset"
   ]
  },
  {
   "cell_type": "markdown",
   "metadata": {},
   "source": [
    "Let's download a test dataset in Kwik format:"
   ]
  },
  {
   "cell_type": "code",
   "execution_count": null,
   "metadata": {
    "collapsed": true
   },
   "outputs": [],
   "source": [
    "phy.download_test_data('test_hybrid_120sec')"
   ]
  },
  {
   "cell_type": "markdown",
   "metadata": {},
   "source": [
    "This creates a `test_hybrid_120sec` subdirectory with three files:"
   ]
  },
  {
   "cell_type": "code",
   "execution_count": 3,
   "metadata": {
    "collapsed": false
   },
   "outputs": [
    {
     "name": "stdout",
     "output_type": "stream",
     "text": [
      "\u001b[0m\u001b[01;32mtest_hybrid_120sec.kwik\u001b[0m*      \u001b[01;34mtest_hybrid_120sec.phy\u001b[0m/\r\n",
      "\u001b[01;32mtest_hybrid_120sec.kwik.bak\u001b[0m*  \u001b[01;32mtest_hybrid_120sec.raw.kwd\u001b[0m*\r\n",
      "\u001b[01;32mtest_hybrid_120sec.kwx\u001b[0m*\r\n"
     ]
    }
   ],
   "source": [
    "%ls test_hybrid_120sec/"
   ]
  },
  {
   "cell_type": "markdown",
   "metadata": {},
   "source": [
    "## Creating a manual clustering session"
   ]
  },
  {
   "cell_type": "code",
   "execution_count": 4,
   "metadata": {
    "collapsed": true
   },
   "outputs": [],
   "source": [
    "from phy.cluster.manual import Session"
   ]
  },
  {
   "cell_type": "markdown",
   "metadata": {},
   "source": [
    "We create a `Session` and pass the path to the `.kwik` file:"
   ]
  },
  {
   "cell_type": "code",
   "execution_count": 5,
   "metadata": {
    "collapsed": false
   },
   "outputs": [
    {
     "name": "stdout",
     "output_type": "stream",
     "text": [
      "Cluster store initialized.\u001b[K\n",
      "Computing cluster statistics: 4.2%.\r",
      "Computing cluster statistics: 8.3%.\r",
      "Computing cluster statistics: 12.5%.\r",
      "Computing cluster statistics: 16.7%.\r",
      "Computing cluster statistics: 20.8%.\r",
      "Computing cluster statistics: 25.0%.\r",
      "Computing cluster statistics: 29.2%.\r",
      "Computing cluster statistics: 33.3%.\r",
      "Computing cluster statistics: 37.5%.\r",
      "Computing cluster statistics: 41.7%.\r",
      "Computing cluster statistics: 45.8%.\r",
      "Computing cluster statistics: 50.0%.\r",
      "Computing cluster statistics: 54.2%.\r",
      "Computing cluster statistics: 58.3%.\r",
      "Computing cluster statistics: 62.5%.\r",
      "Computing cluster statistics: 66.7%.\r",
      "Computing cluster statistics: 70.8%.\r",
      "Computing cluster statistics: 75.0%.\r",
      "Computing cluster statistics: 79.2%.\r",
      "Computing cluster statistics: 83.3%.\r",
      "Computing cluster statistics: 87.5%.\r",
      "Computing cluster statistics: 91.7%.\r",
      "Computing cluster statistics: 95.8%.\r",
      "Cluster statistics computed.\u001b[K\n"
     ]
    }
   ],
   "source": [
    "session = Session('test_hybrid_120sec/test_hybrid_120sec.kwik')"
   ]
  },
  {
   "cell_type": "markdown",
   "metadata": {},
   "source": [
    "**Side note**: A backup of the `.kwik` file has been automatically-created, as well as an internal cluster store that acts as a cache (needed for performance reasons):"
   ]
  },
  {
   "cell_type": "code",
   "execution_count": 6,
   "metadata": {
    "collapsed": false
   },
   "outputs": [
    {
     "name": "stdout",
     "output_type": "stream",
     "text": [
      "\u001b[0m\u001b[01;32m10.features\u001b[0m*  \u001b[01;32m15.features\u001b[0m*  \u001b[01;32m2.features\u001b[0m*   \u001b[01;32m24.features\u001b[0m*  \u001b[01;32m6.features\u001b[0m*\r\n",
      "\u001b[01;32m10.masks\u001b[0m*     \u001b[01;32m15.masks\u001b[0m*     \u001b[01;32m2.masks\u001b[0m*      \u001b[01;32m24.masks\u001b[0m*     \u001b[01;32m6.masks\u001b[0m*\r\n",
      "\u001b[01;32m11.features\u001b[0m*  \u001b[01;32m16.features\u001b[0m*  \u001b[01;32m20.features\u001b[0m*  \u001b[01;32m25.features\u001b[0m*  \u001b[01;32m7.features\u001b[0m*\r\n",
      "\u001b[01;32m11.masks\u001b[0m*     \u001b[01;32m16.masks\u001b[0m*     \u001b[01;32m20.masks\u001b[0m*     \u001b[01;32m25.masks\u001b[0m*     \u001b[01;32m7.masks\u001b[0m*\r\n",
      "\u001b[01;32m12.features\u001b[0m*  \u001b[01;32m17.features\u001b[0m*  \u001b[01;32m21.features\u001b[0m*  \u001b[01;32m3.features\u001b[0m*   \u001b[01;32m8.features\u001b[0m*\r\n",
      "\u001b[01;32m12.masks\u001b[0m*     \u001b[01;32m17.masks\u001b[0m*     \u001b[01;32m21.masks\u001b[0m*     \u001b[01;32m3.masks\u001b[0m*      \u001b[01;32m8.masks\u001b[0m*\r\n",
      "\u001b[01;32m13.features\u001b[0m*  \u001b[01;32m18.features\u001b[0m*  \u001b[01;32m22.features\u001b[0m*  \u001b[01;32m4.features\u001b[0m*   \u001b[01;32m9.features\u001b[0m*\r\n",
      "\u001b[01;32m13.masks\u001b[0m*     \u001b[01;32m18.masks\u001b[0m*     \u001b[01;32m22.masks\u001b[0m*     \u001b[01;32m4.masks\u001b[0m*      \u001b[01;32m9.masks\u001b[0m*\r\n",
      "\u001b[01;32m14.features\u001b[0m*  \u001b[01;32m19.features\u001b[0m*  \u001b[01;32m23.features\u001b[0m*  \u001b[01;32m5.features\u001b[0m*\r\n",
      "\u001b[01;32m14.masks\u001b[0m*     \u001b[01;32m19.masks\u001b[0m*     \u001b[01;32m23.masks\u001b[0m*     \u001b[01;32m5.masks\u001b[0m*\r\n"
     ]
    }
   ],
   "source": [
    "%ls test_hybrid_120sec/test_hybrid_120sec.phy/cluster_store/0/main/"
   ]
  },
  {
   "cell_type": "markdown",
   "metadata": {},
   "source": [
    "## Inspect the data"
   ]
  },
  {
   "cell_type": "markdown",
   "metadata": {},
   "source": [
    "The dataset is now loaded. Let's inspect it:"
   ]
  },
  {
   "cell_type": "code",
   "execution_count": 7,
   "metadata": {
    "collapsed": false
   },
   "outputs": [
    {
     "data": {
      "text/plain": [
       "18539"
      ]
     },
     "execution_count": 7,
     "metadata": {},
     "output_type": "execute_result"
    }
   ],
   "source": [
    "session.model.n_spikes"
   ]
  },
  {
   "cell_type": "code",
   "execution_count": 8,
   "metadata": {
    "collapsed": false
   },
   "outputs": [
    {
     "data": {
      "text/plain": [
       "24"
      ]
     },
     "execution_count": 8,
     "metadata": {},
     "output_type": "execute_result"
    }
   ],
   "source": [
    "session.model.n_clusters"
   ]
  },
  {
   "cell_type": "markdown",
   "metadata": {},
   "source": [
    "Use tab completion to discover the list of properties and methods: type `session.model.` then press `tab`."
   ]
  },
  {
   "cell_type": "markdown",
   "metadata": {},
   "source": [
    "## Start the manual clustering GUI"
   ]
  },
  {
   "cell_type": "code",
   "execution_count": 9,
   "metadata": {
    "collapsed": false
   },
   "outputs": [
    {
     "data": {
      "text/plain": [
       "<phy.utils.dock.DockWindow at 0x7f4211706558>"
      ]
     },
     "execution_count": 9,
     "metadata": {},
     "output_type": "execute_result"
    }
   ],
   "source": [
    "session.show_gui()"
   ]
  },
  {
   "cell_type": "markdown",
   "metadata": {},
   "source": [
    "Press `space` and `shift+space` to go through the list of best clusters. Press `enter` to pin the best cluster and go through the list of closest matches.  Press `backspace` to unpin. Press `h` to see the other shortcuts."
   ]
  }
 ],
 "metadata": {
  "kernelspec": {
   "display_name": "Python 3",
   "language": "python",
   "name": "python3"
  },
  "language_info": {
   "codemirror_mode": {
    "name": "ipython",
    "version": 3
   },
   "file_extension": ".py",
   "mimetype": "text/x-python",
   "name": "python",
   "nbconvert_exporter": "python",
   "pygments_lexer": "ipython3",
   "version": "3.4.3"
  }
 },
 "nbformat": 4,
 "nbformat_minor": 0
}
